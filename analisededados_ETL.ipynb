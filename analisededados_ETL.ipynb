{
 "cells": [
  {
   "attachments": {},
   "cell_type": "markdown",
   "metadata": {},
   "source": [
    "##### Vamos desvendar os segredos do ETL (Extração, Transformação e Carregamento) com Python. Aprenda de forma simplificada a utilizar bibliotecas poderosas para extrair e transformar dados de diferentes fontes, incluindo planilhas, de maneira eficiente. Vamos explorar técnicas essenciais de limpeza e organização dos dados para garantir a qualidade e consistência das informações. Prepare-se para descobrir como transformar dados brutos em tomadas de decisão! "
   ]
  },
  {
   "cell_type": "code",
   "execution_count": 1,
   "metadata": {},
   "outputs": [],
   "source": [
    "import pandas as pd\n",
    "\n",
    "dados = pd.read_csv('feedbacks.csv', delimiter=';')"
   ]
  },
  {
   "attachments": {},
   "cell_type": "markdown",
   "metadata": {},
   "source": [
    "##### Ler a informações dos dados"
   ]
  },
  {
   "cell_type": "code",
   "execution_count": 2,
   "metadata": {},
   "outputs": [
    {
     "name": "stdout",
     "output_type": "stream",
     "text": [
      "<class 'pandas.core.frame.DataFrame'>\n",
      "RangeIndex: 7 entries, 0 to 6\n",
      "Data columns (total 2 columns):\n",
      " #   Column      Non-Null Count  Dtype \n",
      "---  ------      --------------  ----- \n",
      " 0   nota        7 non-null      int64 \n",
      " 1   comentario  7 non-null      object\n",
      "dtypes: int64(1), object(1)\n",
      "memory usage: 244.0+ bytes\n"
     ]
    }
   ],
   "source": [
    "dados.info()"
   ]
  },
  {
   "attachments": {},
   "cell_type": "markdown",
   "metadata": {},
   "source": [
    "##### Verificar está tudo ok, se precisa demilitar ou não."
   ]
  },
  {
   "cell_type": "code",
   "execution_count": 6,
   "metadata": {},
   "outputs": [
    {
     "data": {
      "text/html": [
       "<div>\n",
       "<style scoped>\n",
       "    .dataframe tbody tr th:only-of-type {\n",
       "        vertical-align: middle;\n",
       "    }\n",
       "\n",
       "    .dataframe tbody tr th {\n",
       "        vertical-align: top;\n",
       "    }\n",
       "\n",
       "    .dataframe thead th {\n",
       "        text-align: right;\n",
       "    }\n",
       "</style>\n",
       "<table border=\"1\" class=\"dataframe\">\n",
       "  <thead>\n",
       "    <tr style=\"text-align: right;\">\n",
       "      <th></th>\n",
       "      <th>nota</th>\n",
       "      <th>comentario</th>\n",
       "    </tr>\n",
       "  </thead>\n",
       "  <tbody>\n",
       "    <tr>\n",
       "      <th>0</th>\n",
       "      <td>10</td>\n",
       "      <td>Excelente Bootcamp, estou muito satisfeita!</td>\n",
       "    </tr>\n",
       "    <tr>\n",
       "      <th>1</th>\n",
       "      <td>9</td>\n",
       "      <td>Bootcamp top, mas mentorias de IA o tornariam ...</td>\n",
       "    </tr>\n",
       "    <tr>\n",
       "      <th>2</th>\n",
       "      <td>6</td>\n",
       "      <td>Um Bootcamp razoável, torcendo para o próximo ...</td>\n",
       "    </tr>\n",
       "    <tr>\n",
       "      <th>3</th>\n",
       "      <td>10</td>\n",
       "      <td>Bootcamp incrível, continuem potencializando a...</td>\n",
       "    </tr>\n",
       "    <tr>\n",
       "      <th>4</th>\n",
       "      <td>7</td>\n",
       "      <td>O Bootcamp foi ok, nada de especial.</td>\n",
       "    </tr>\n",
       "    <tr>\n",
       "      <th>5</th>\n",
       "      <td>9</td>\n",
       "      <td>Show de bola!</td>\n",
       "    </tr>\n",
       "    <tr>\n",
       "      <th>6</th>\n",
       "      <td>10</td>\n",
       "      <td>Melhor Bootcamp de todos!</td>\n",
       "    </tr>\n",
       "  </tbody>\n",
       "</table>\n",
       "</div>"
      ],
      "text/plain": [
       "   nota                                         comentario\n",
       "0    10        Excelente Bootcamp, estou muito satisfeita!\n",
       "1     9  Bootcamp top, mas mentorias de IA o tornariam ...\n",
       "2     6  Um Bootcamp razoável, torcendo para o próximo ...\n",
       "3    10  Bootcamp incrível, continuem potencializando a...\n",
       "4     7               O Bootcamp foi ok, nada de especial.\n",
       "5     9                                      Show de bola!\n",
       "6    10                          Melhor Bootcamp de todos!"
      ]
     },
     "execution_count": 6,
     "metadata": {},
     "output_type": "execute_result"
    }
   ],
   "source": [
    "dados.head(10)"
   ]
  },
  {
   "attachments": {},
   "cell_type": "markdown",
   "metadata": {},
   "source": [
    "##### Vamos calcular as informações, podemos fazer duas formas diferentes de calculo:"
   ]
  },
  {
   "cell_type": "code",
   "execution_count": 7,
   "metadata": {},
   "outputs": [
    {
     "name": "stdout",
     "output_type": "stream",
     "text": [
      "57.14285714285714\n"
     ]
    }
   ],
   "source": [
    "# nota >= 9 (promotores)\n",
    "# nota <= 6 (detratores)\n",
    "\n",
    "def calcular_nps(notas):\n",
    "    detratores = sum(notas.apply(lambda nota: nota <=6))\n",
    "    promotores = sum(notas.apply(lambda nota: nota >=9))\n",
    "    \n",
    "    return (promotores - detratores) / len(notas) * 100\n",
    "\n",
    "notas = dados['nota']\n",
    "\n",
    "nps = calcular_nps(notas)\n",
    "\n",
    "print(nps)"
   ]
  },
  {
   "cell_type": "code",
   "execution_count": 8,
   "metadata": {},
   "outputs": [
    {
     "name": "stdout",
     "output_type": "stream",
     "text": [
      "57.14285714285714\n"
     ]
    }
   ],
   "source": [
    "# nota >= 9 (promotores)\n",
    "# nota <= 6 (detratores)\n",
    "\n",
    "notas = dados['nota']\n",
    "\n",
    "detratores = 0\n",
    "promotores = 0\n",
    "\n",
    "for nota in notas:\n",
    "    if nota >= 9:\n",
    "        promotores += 1\n",
    "    elif nota <= 6:\n",
    "        detratores += 1\n",
    "        \n",
    "nps = (promotores - detratores) / len(notas) * 100\n",
    "\n",
    "print(nps)"
   ]
  },
  {
   "cell_type": "code",
   "execution_count": 12,
   "metadata": {},
   "outputs": [
    {
     "data": {
      "image/png": "[encoded data removed]",
      "text/plain": [
       "<Figure size 1000x200 with 1 Axes>"
      ]
     },
     "metadata": {},
     "output_type": "display_data"
    }
   ],
   "source": [
    "# Vamos importar o matplolib\n",
    "import matplotlib.pyplot as plt\n",
    "import matplotlib.patches as mpatches\n",
    "\n",
    "# Definição das constantes que usaremos para visualizar o NPS\n",
    "NPS_ZONAS = ['Crítico', 'Aperfeiçoamento', 'Qualidade', 'Excelência']\n",
    "NPS_VALORES = [-100, 0, 50, 75,100]\n",
    "NPS_CORES = ['#ff595E', '#FFCA3A', '#8AC926', '#1982C4']\n",
    "\n",
    "\n",
    "# Criar gráfico:\n",
    "def criar_gráfico_nps(nps):\n",
    "    fig, ax = plt.subplots(figsize=(10, 2))\n",
    "    \n",
    "    for i, zona in enumerate(NPS_ZONAS):\n",
    "        ax.barh([0], width=NPS_VALORES[i+1] - NPS_VALORES[i], left=NPS_VALORES[i], color=NPS_CORES[i])\n",
    "        \n",
    "    ax.barh([0], width=0.5, left=nps, color='black')\n",
    "    ax.set_yticks([])\n",
    "    ax.set_xlim(-100, 100)\n",
    "    ax.set_xticks(NPS_VALORES)\n",
    "    \n",
    "    plt.text(nps, 0, f'{nps:.2f}', ha='center', va='center', color='white', bbox=dict(facecolor=\"black\"))\n",
    "    \n",
    "    patches = [mpatches.Patch(color=NPS_CORES[i], label=NPS_ZONAS[i]) for i in range(len(NPS_ZONAS))]\n",
    "    plt.legend(handles=patches, bbox_to_anchor=(1, 1))\n",
    "    plt.title('Gráfico de NPS')\n",
    "    \n",
    "    \n",
    "    plt.show()\n",
    "    \n",
    "criar_gráfico_nps(nps)"
   ]
  }
 ],
 "metadata": {
  "kernelspec": {
   "display_name": ".venv",
   "language": "python",
   "name": "python3"
  },
  "language_info": {
   "codemirror_mode": {
    "name": "ipython",
    "version": 3
   },
   "file_extension": ".py",
   "mimetype": "text/x-python",
   "name": "python",
   "nbconvert_exporter": "python",
   "pygments_lexer": "ipython3",
   "version": "3.11.3"
  },
  "orig_nbformat": 4
 },
 "nbformat": 4,
 "nbformat_minor": 2
}
